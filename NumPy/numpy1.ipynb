{
 "cells": [
  {
   "cell_type": "markdown",
   "metadata": {
    "id": "f7vwSrDCGWe_"
   },
   "source": [
    "Numeric Python\n",
    "\n",
    "List\n",
    "-------\n",
    "list can contain different data types.\n",
    "when it comes to massive amount, it's very slow.\n",
    "computational cost\n",
    "it costs a lot of memory\n",
    "\n",
    "NumPy\n",
    "-------\n",
    "we can create n-dimensonal Array\n",
    "we can do math functions with the array\n"
   ]
  },
  {
   "cell_type": "code",
   "execution_count": null,
   "metadata": {
    "colab": {
     "base_uri": "https://localhost:8080/"
    },
    "id": "FPygt9FDGihd",
    "outputId": "a3245a49-5607-4921-c11f-d43a855cb11d"
   },
   "outputs": [
    {
     "name": "stdout",
     "output_type": "stream",
     "text": [
      "[1, 2, 3, 4, 5]\n"
     ]
    }
   ],
   "source": [
    "l = [1,2,3,4,5]\n",
    "print(l)"
   ]
  },
  {
   "cell_type": "code",
   "execution_count": null,
   "metadata": {
    "colab": {
     "base_uri": "https://localhost:8080/"
    },
    "id": "12WoD2vswTNe",
    "outputId": "d7535bfd-83da-45a0-a1e0-56fdb82ac240"
   },
   "outputs": [
    {
     "name": "stdout",
     "output_type": "stream",
     "text": [
      "[1 2 3 4]\n",
      "<class 'numpy.ndarray'>\n"
     ]
    }
   ],
   "source": [
    "import numpy as np\n",
    "arr = np.array([1,2,3,4])\n",
    "arr\n",
    "print(arr)\n",
    "print(type(arr))"
   ]
  },
  {
   "cell_type": "code",
   "execution_count": null,
   "metadata": {
    "colab": {
     "base_uri": "https://localhost:8080/"
    },
    "id": "gSTU4wkM5eD-",
    "outputId": "24b71b61-4cb1-4e95-d58c-de7fd729925e"
   },
   "outputs": [
    {
     "name": "stdout",
     "output_type": "stream",
     "text": [
      "[40]\n",
      "[50 60 70]\n"
     ]
    }
   ],
   "source": [
    "# 1D Array\n",
    "a0 = np.array([40])\n",
    "print(a0)\n",
    "a1 = np.array([50,60,70])\n",
    "print(a1)"
   ]
  },
  {
   "cell_type": "code",
   "execution_count": null,
   "metadata": {
    "colab": {
     "base_uri": "https://localhost:8080/"
    },
    "id": "hpDMXTk85lbr",
    "outputId": "cc133dad-bdce-4eaa-a275-0c9c9788469f"
   },
   "outputs": [
    {
     "name": "stdout",
     "output_type": "stream",
     "text": [
      "[[1 2 3]\n",
      " [4 5 6]]\n"
     ]
    }
   ],
   "source": [
    "# 2D Array\n",
    "a2 = np.array([[1,2,3] , [4,5,6]])\n",
    "print(a2)"
   ]
  },
  {
   "cell_type": "code",
   "execution_count": null,
   "metadata": {
    "colab": {
     "base_uri": "https://localhost:8080/"
    },
    "id": "2aN_aJaV8fMc",
    "outputId": "b0592aff-c003-4187-9f6f-75760e5abd6b"
   },
   "outputs": [
    {
     "name": "stdout",
     "output_type": "stream",
     "text": [
      "[[[ 1  2  3 20]\n",
      "  [ 4  5  6 21]]\n",
      "\n",
      " [[ 7  8  9 22]\n",
      "  [10 11 12 23]]\n",
      "\n",
      " [[13 14 15 16]\n",
      "  [17 18 19 24]]]\n"
     ]
    }
   ],
   "source": [
    "# 3D Array\n",
    "a3 = np.array([[[1,2,3,20],[4,5,6,21]],[[7,8,9,22],[10,11,12,23]],[[13,14,15,16],[17,18,19,24]]])\n",
    "print(a3)"
   ]
  },
  {
   "cell_type": "code",
   "execution_count": null,
   "metadata": {
    "colab": {
     "base_uri": "https://localhost:8080/"
    },
    "id": "AyfBV0Lr86KZ",
    "outputId": "61b20371-110b-4269-bc28-589b25aed37c"
   },
   "outputs": [
    {
     "name": "stdout",
     "output_type": "stream",
     "text": [
      "1\n",
      "1\n",
      "2\n",
      "3\n"
     ]
    }
   ],
   "source": [
    "#Check Dimensions [ndim]\n",
    "\n",
    "print(a0.ndim)\n",
    "print(a1.ndim)\n",
    "print(a2.ndim)\n",
    "print(a3.ndim)"
   ]
  },
  {
   "cell_type": "code",
   "execution_count": null,
   "metadata": {
    "colab": {
     "base_uri": "https://localhost:8080/"
    },
    "id": "v9JEgPH4_F5g",
    "outputId": "a07f031c-afd9-42b2-8c25-e56568b8ee07"
   },
   "outputs": [
    {
     "name": "stdout",
     "output_type": "stream",
     "text": [
      "(1,)\n",
      "(3,)\n",
      "(2, 3)\n",
      "(3, 2, 4)\n"
     ]
    }
   ],
   "source": [
    "# Shape\n",
    "print(a0.shape)\n",
    "print(a1.shape)\n",
    "print(a2.shape)\n",
    "print(a3.shape)"
   ]
  },
  {
   "cell_type": "code",
   "execution_count": null,
   "metadata": {
    "colab": {
     "base_uri": "https://localhost:8080/"
    },
    "id": "jgZQz4S8LbBy",
    "outputId": "fc5be164-f4ff-44fe-9d09-a7d7ff9bd497"
   },
   "outputs": [
    {
     "name": "stdout",
     "output_type": "stream",
     "text": [
      "[[ 1  2]\n",
      " [ 3  4]\n",
      " [ 5  6]\n",
      " [ 7  8]\n",
      " [ 9 10]\n",
      " [11 12]]\n",
      "\n",
      "[[ 1  2  3  4  5  6]\n",
      " [ 7  8  9 10 11 12]]\n",
      "\n",
      "[[[ 1  2]\n",
      "  [ 3  4]]\n",
      "\n",
      " [[ 5  6]\n",
      "  [ 7  8]]\n",
      "\n",
      " [[ 9 10]\n",
      "  [11 12]]]\n"
     ]
    }
   ],
   "source": [
    "# Reshaping - we can add or remove the dimension or change the no of elements in the dimension\n",
    "\n",
    "#Reshape\n",
    "# 1D - 2D\n",
    "a = np.array([1,2,3,4,5,6,7,8,9,10,11,12])\n",
    "a1 = a.reshape(6,2)\n",
    "print(a1)\n",
    "print()\n",
    "a1 = a.reshape(2,6)\n",
    "print(a1)\n",
    "print()\n",
    "\n",
    "# 1D - 3D\n",
    "a1 = a.reshape(3,2,2)\n",
    "print(a1)\n",
    "print()\n"
   ]
  },
  {
   "cell_type": "code",
   "execution_count": null,
   "metadata": {
    "id": "igHYEyw-NTeU"
   },
   "outputs": [],
   "source": [
    "# Flattening - convert multi dimentional array into 1D array\n",
    "\n",
    "# 2D - 1D\n",
    "# 2D - 2D\n",
    "\n",
    "# 3D - 1D\n",
    "# 3D - 2D\n",
    "# 3D - 3D"
   ]
  },
  {
   "cell_type": "code",
   "execution_count": null,
   "metadata": {
    "colab": {
     "base_uri": "https://localhost:8080/"
    },
    "collapsed": true,
    "id": "tkRCvKhehGft",
    "outputId": "4576d6c2-016f-41b7-e1f3-35c4a338ee4c"
   },
   "outputs": [
    {
     "name": "stdout",
     "output_type": "stream",
     "text": [
      "2D - 1D\n",
      "[[1 2 3 4]\n",
      " [5 6 7 8]]\n",
      "(2, 4)\n",
      "[1 2 3 4 5 6 7 8]\n",
      "(8,)\n",
      "\n"
     ]
    }
   ],
   "source": [
    "# 2D - 1D\n",
    "print('2D - 1D')\n",
    "a = np.array([[1,2,3,4],[5,6,7,8]])\n",
    "print(a)\n",
    "print(a.shape)\n",
    "a1 = a.reshape(-1)\n",
    "print(a1)\n",
    "print(a1.shape)\n",
    "print()"
   ]
  },
  {
   "cell_type": "code",
   "execution_count": null,
   "metadata": {
    "colab": {
     "base_uri": "https://localhost:8080/"
    },
    "id": "VG1ZOBHZgLmQ",
    "outputId": "3a2f83c5-892d-47a6-db40-cacdba8b2ed1"
   },
   "outputs": [
    {
     "name": "stdout",
     "output_type": "stream",
     "text": [
      "2D - 2D\n",
      "[[1 2 3 4]\n",
      " [5 6 7 8]]\n",
      "(2, 4)\n",
      "\n",
      "[[1 2]\n",
      " [3 4]\n",
      " [5 6]\n",
      " [7 8]]\n",
      "(4, 2)\n",
      "\n"
     ]
    }
   ],
   "source": [
    "# 2D - 2D\n",
    "print('2D - 2D')\n",
    "a = np.array([[1,2,3,4],[5,6,7,8]])\n",
    "print(a)\n",
    "print(a.shape)\n",
    "print()\n",
    "\n",
    "a1 = a.reshape(4,2)\n",
    "print(a1)\n",
    "print(a1.shape)\n",
    "print()"
   ]
  },
  {
   "cell_type": "code",
   "execution_count": null,
   "metadata": {
    "colab": {
     "base_uri": "https://localhost:8080/"
    },
    "id": "q_oiGiN9gmFz",
    "outputId": "599f7819-0d8b-4c53-fb2e-7420f36c67ef"
   },
   "outputs": [
    {
     "name": "stdout",
     "output_type": "stream",
     "text": [
      "3D - 1D\n",
      "[[[ 1  2]\n",
      "  [ 3  4]\n",
      "  [ 5  6]\n",
      "  [ 7  8]]\n",
      "\n",
      " [[ 9 10]\n",
      "  [11 12]\n",
      "  [13 14]\n",
      "  [15 16]]\n",
      "\n",
      " [[17 18]\n",
      "  [19 20]\n",
      "  [21 22]\n",
      "  [23 24]]]\n",
      "(3, 4, 2)\n",
      "[ 1  2  3  4  5  6  7  8  9 10 11 12 13 14 15 16 17 18 19 20 21 22 23 24]\n",
      "(24,)\n",
      "\n"
     ]
    }
   ],
   "source": [
    "# 3D - 1D\n",
    "print('3D - 1D')\n",
    "a = np.array([[[1,2],[3,4],[5,6],[7,8]],[[9,10],[11,12],[13,14],[15,16]],[[17,18],[19,20],[21,22],[23,24]]])\n",
    "print(a)\n",
    "print(a.shape)\n",
    "a1 = a.reshape(-1)\n",
    "print(a1)\n",
    "print(a1.shape)\n",
    "print()"
   ]
  },
  {
   "cell_type": "code",
   "execution_count": null,
   "metadata": {
    "colab": {
     "base_uri": "https://localhost:8080/"
    },
    "id": "F7NZriHegy-y",
    "outputId": "f36505a5-2e2d-4dd9-8216-0f63dc0880b3"
   },
   "outputs": [
    {
     "name": "stdout",
     "output_type": "stream",
     "text": [
      "3D - 2D\n",
      "[[[ 1  2]\n",
      "  [ 3  4]\n",
      "  [ 5  6]\n",
      "  [ 7  8]]\n",
      "\n",
      " [[ 9 10]\n",
      "  [11 12]\n",
      "  [13 14]\n",
      "  [15 16]]\n",
      "\n",
      " [[17 18]\n",
      "  [19 20]\n",
      "  [21 22]\n",
      "  [23 24]]]\n",
      "(3, 4, 2)\n",
      "[[ 1  2  3  4]\n",
      " [ 5  6  7  8]\n",
      " [ 9 10 11 12]\n",
      " [13 14 15 16]\n",
      " [17 18 19 20]\n",
      " [21 22 23 24]]\n",
      "(6, 4)\n",
      "\n"
     ]
    }
   ],
   "source": [
    "#3D - 2D\n",
    "print('3D - 2D')\n",
    "a = np.array([[[1,2],[3,4],[5,6],[7,8]],[[9,10],[11,12],[13,14],[15,16]],[[17,18],[19,20],[21,22],[23,24]]])\n",
    "print(a)\n",
    "print(a.shape)\n",
    "a1 = a.reshape(6,4)\n",
    "print(a1)\n",
    "print(a1.shape)\n",
    "print()"
   ]
  },
  {
   "cell_type": "code",
   "execution_count": null,
   "metadata": {
    "colab": {
     "base_uri": "https://localhost:8080/"
    },
    "id": "BUEew-6CedQ3",
    "outputId": "05ff3b9d-7a1d-41cb-bbd4-f3445e4f262e"
   },
   "outputs": [
    {
     "name": "stdout",
     "output_type": "stream",
     "text": [
      "3D - 3D\n",
      "[[[ 1  2]\n",
      "  [ 3  4]\n",
      "  [ 5  6]\n",
      "  [ 7  8]]\n",
      "\n",
      " [[ 9 10]\n",
      "  [11 12]\n",
      "  [13 14]\n",
      "  [15 16]]\n",
      "\n",
      " [[17 18]\n",
      "  [19 20]\n",
      "  [21 22]\n",
      "  [23 24]]]\n",
      "(3, 4, 2)\n",
      "\n",
      "[[[ 1  2]\n",
      "  [ 3  4]\n",
      "  [ 5  6]]\n",
      "\n",
      " [[ 7  8]\n",
      "  [ 9 10]\n",
      "  [11 12]]\n",
      "\n",
      " [[13 14]\n",
      "  [15 16]\n",
      "  [17 18]]\n",
      "\n",
      " [[19 20]\n",
      "  [21 22]\n",
      "  [23 24]]]\n",
      "(4, 3, 2)\n",
      "\n"
     ]
    }
   ],
   "source": [
    "# 3D - 3D\n",
    "print('3D - 3D')\n",
    "a = np.array([[[1,2],[3,4],[5,6],[7,8]],[[9,10],[11,12],[13,14],[15,16]],[[17,18],[19,20],[21,22],[23,24]]])\n",
    "print(a)\n",
    "print(a.shape)\n",
    "print()\n",
    "a1 = a.reshape(4,3,2)\n",
    "print(a1)\n",
    "print(a1.shape)\n",
    "print()\n"
   ]
  },
  {
   "cell_type": "code",
   "execution_count": null,
   "metadata": {
    "colab": {
     "base_uri": "https://localhost:8080/"
    },
    "id": "ytDXQEqPSJ2n",
    "outputId": "2d461a8c-a37a-484b-8fcd-4242cd1a5b3b"
   },
   "outputs": [
    {
     "name": "stdout",
     "output_type": "stream",
     "text": [
      "Access 1D Array\n",
      "1\n",
      "6\n",
      "Access 2D Array\n",
      "4\n",
      "7\n",
      "\n",
      "Accessign 3D Array\n",
      "5\n"
     ]
    }
   ],
   "source": [
    "# Indexing\n",
    "\n",
    "# 1D Array\n",
    "print('Access 1D Array')\n",
    "a = np.array([1,2,3,4,5])\n",
    "print(a[0])\n",
    "print(a[1] + a[3])\n",
    "\n",
    "\n",
    "# 2D Array\n",
    "print('Access 2D Array')\n",
    "a = np.array([[1,2,3,4],[5,6,7,8]])\n",
    "print(a[0,3])\n",
    "print(a[1,2])\n",
    "print()\n",
    "\n",
    "# 3D Array\n",
    "print('Accessing 3D Array')\n",
    "a = np.array([[[1,2,3],[4,5,6]],[[7,8,9],[10,11,12]]])\n",
    "print(a[0,1,1])\n"
   ]
  },
  {
   "cell_type": "code",
   "execution_count": null,
   "metadata": {
    "colab": {
     "base_uri": "https://localhost:8080/"
    },
    "id": "Vxx0zoR7YpEw",
    "outputId": "8fa12717-d136-4002-8e47-3a2ee1095eca"
   },
   "outputs": [
    {
     "name": "stdout",
     "output_type": "stream",
     "text": [
      "Iteration in 1D Array\n",
      "1\n",
      "2\n",
      "3\n",
      "4\n",
      "5\n",
      "6\n",
      "7\n",
      "8\n",
      "9\n",
      "10\n",
      "11\n",
      "12\n",
      "\n",
      "Iteration in 1D Array\n",
      "[1 2 3 4]\n",
      "[5 6 7 8]\n",
      "\n",
      "1\n",
      "2\n",
      "3\n",
      "4\n",
      "5\n",
      "6\n",
      "7\n",
      "8\n",
      "\n",
      "Iteration in 3D Array\n",
      "[[1 2 3]\n",
      " [4 5 6]]\n",
      "[[ 7  8  9]\n",
      " [10 11 12]]\n",
      "\n",
      "[1 2 3]\n",
      "[4 5 6]\n",
      "[7 8 9]\n",
      "[10 11 12]\n",
      "\n",
      "1\n",
      "2\n",
      "3\n",
      "4\n",
      "5\n",
      "6\n",
      "7\n",
      "8\n",
      "9\n",
      "10\n",
      "11\n",
      "12\n",
      "\n"
     ]
    }
   ],
   "source": [
    "# Iterating\n",
    "\n",
    "# 1D Array\n",
    "print('Iteration in 1D Array')\n",
    "a = np.array([1,2,3,4,5,6,7,8,9,10,11,12])\n",
    "\n",
    "for x in a:\n",
    "  print(x)\n",
    "print()\n",
    "\n",
    "# 2D Array\n",
    "print('Iteration in 1D Array')\n",
    "a = np.array([[1,2,3,4],[5,6,7,8]])\n",
    "\n",
    "for x in a:\n",
    "  print(x)\n",
    "print()\n",
    "\n",
    "for x in a:\n",
    "  for y in x:\n",
    "    print(y)\n",
    "print()\n",
    "\n",
    "\n",
    "# 3D Array\n",
    "print('Iteration in 3D Array')\n",
    "a=np.array([[[1,2,3],[4,5,6]],[[7,8,9],[10,11,12]]])\n",
    "\n",
    "for x in a:\n",
    "  print(x)\n",
    "print()\n",
    "\n",
    "for x in a:\n",
    "  for y in x:\n",
    "    print(y)\n",
    "print()\n",
    "\n",
    "for x in a:\n",
    "  for y in x:\n",
    "    for z in y:\n",
    "      print(z)\n",
    "print()\n"
   ]
  },
  {
   "cell_type": "code",
   "execution_count": null,
   "metadata": {
    "colab": {
     "base_uri": "https://localhost:8080/"
    },
    "id": "3tnpAmhCbJNq",
    "outputId": "288d5c5e-22c3-4b16-d3a6-cd26ead15d7d"
   },
   "outputs": [
    {
     "name": "stdout",
     "output_type": "stream",
     "text": [
      "Negative Slicing\n",
      "10\n",
      "[6 7 8]\n",
      "\n",
      "Slicing in 1D Array\n",
      "[1 2 3]\n",
      "[1 2 3]\n",
      "[1 2 3 4 5]\n",
      "[ 1  2  3  4  5  6  7  8  9 10]\n",
      "[2 3 4 5 6 7 8]\n",
      "[2 4 6 8]\n",
      "\n",
      "Slicing in 2D Array\n",
      "[8 9]\n",
      "[1 2 3 4 5]\n",
      "Slicing in 3D Array\n",
      "[11 12]\n"
     ]
    }
   ],
   "source": [
    "# Slicing\n",
    "\n",
    "    # [start:end]\n",
    "    # [start:end:step]\n",
    "    # [start:] => ends with the last element\n",
    "    # [:end] => starts from 0\n",
    "    # [start:end] => steps with 0\n",
    "\n",
    "# Negative Slicing\n",
    "print('Negative Slicing')\n",
    "a = np.array([1,2,3,4,5,6,7,8,9,10])\n",
    "print(a[-1])\n",
    "print(a[-5:-2])\n",
    "print()\n",
    "\n",
    "# 1D Array\n",
    "print('Slicing in 1D Array')\n",
    "a = np.array([1,2,3,4,5,6,7,8,9,10])\n",
    "print(a[0:3])\n",
    "print(a[:3])\n",
    "print(a[0:5])\n",
    "print(a[0:])\n",
    "print(a[1:8:1])\n",
    "print(a[1:8:2])\n",
    "print()\n",
    "\n",
    "# 2D Array\n",
    "print('Slicing in 2D Array')\n",
    "a = np.array([[1,2,3,4,5],[6,7,8,9,10]])\n",
    "print(a[1, 2:4])\n",
    "print(a[0,0:])\n",
    "\n",
    "# 3D Array\n",
    "print('Slicing in 3D Array')\n",
    "a = np.array([[[1,2,3,4],[5,6,7,8]],[[9,10,11,12],[13,14,15,16]],[[17,18,19,20],[21,22,23,24]]])\n",
    "print(a[1,0,2:])\n"
   ]
  },
  {
   "cell_type": "code",
   "execution_count": null,
   "metadata": {
    "colab": {
     "base_uri": "https://localhost:8080/"
    },
    "id": "WWyTpCgs_HOS",
    "outputId": "72c84589-e1bd-4417-bc27-17cded12bb7f"
   },
   "outputs": [
    {
     "name": "stdout",
     "output_type": "stream",
     "text": [
      "(array([ 2,  7, 11]),)\n",
      "(array([ 1,  5,  6,  8, 10]),)\n"
     ]
    },
    {
     "data": {
      "text/plain": [
       "(array([ 2,  7, 11]),)"
      ]
     },
     "execution_count": 8,
     "metadata": {},
     "output_type": "execute_result"
    }
   ],
   "source": [
    "# Search\n",
    "\n",
    "a = np.array([1,2,3,5,7,6,4,3,8,9,10,3])\n",
    "print(np.where(a == 3))\n",
    "print(np.where(a%2 == 0))\n"
   ]
  },
  {
   "cell_type": "code",
   "execution_count": null,
   "metadata": {
    "colab": {
     "base_uri": "https://localhost:8080/"
    },
    "id": "y1AfEJNmBrUp",
    "outputId": "b0aa263e-6e1b-42ba-f28e-8bf1ba215dd8"
   },
   "outputs": [
    {
     "name": "stdout",
     "output_type": "stream",
     "text": [
      "[1 2 5 7 8]\n",
      "['apple' 'banana' 'cherry']\n"
     ]
    }
   ],
   "source": [
    "# Sorting\n",
    "a = np.array([5,7,2,8,1])\n",
    "print(np.sort(a))\n",
    "\n",
    "b = np.array(['banana','cherry','apple'])\n",
    "print(np.sort(b))"
   ]
  },
  {
   "cell_type": "code",
   "execution_count": null,
   "metadata": {
    "colab": {
     "base_uri": "https://localhost:8080/"
    },
    "id": "kIZ6uCs_I9-v",
    "outputId": "34be172e-0701-4da0-be5c-a578b9db3108"
   },
   "outputs": [
    {
     "name": "stdout",
     "output_type": "stream",
     "text": [
      "[0 1 2 3 4 5 6 7 8 9]\n",
      "[0 2 4 6 8]\n",
      "[]\n"
     ]
    }
   ],
   "source": [
    "# Arange\n",
    "a = np.arange(10)\n",
    "print(a)\n",
    "a1 = np.arange(0,10,2)\n",
    "print(a1)\n",
    "a1 = np.arange(10,2)\n",
    "print(a1)"
   ]
  },
  {
   "cell_type": "code",
   "execution_count": null,
   "metadata": {
    "colab": {
     "base_uri": "https://localhost:8080/"
    },
    "id": "-QUk6r8sJrpp",
    "outputId": "f81f5e2f-4eaf-4c55-ab2a-679e26d0817f"
   },
   "outputs": [
    {
     "name": "stdout",
     "output_type": "stream",
     "text": [
      "[0. 0. 0. 0. 0. 0.]\n",
      "[[0. 0. 0. 0. 0.]\n",
      " [0. 0. 0. 0. 0.]\n",
      " [0. 0. 0. 0. 0.]\n",
      " [0. 0. 0. 0. 0.]]\n",
      "[7 7 7 7 7 7 7 7 7 7]\n",
      "[[8 8 8 8 8 8]\n",
      " [8 8 8 8 8 8]\n",
      " [8 8 8 8 8 8]\n",
      " [8 8 8 8 8 8]]\n",
      "[1 2 3 4 5]\n"
     ]
    }
   ],
   "source": [
    "# Zeros\n",
    "a = np.zeros(6)\n",
    "print(a)\n",
    "\n",
    "# Multidimensional Zeros\n",
    "a = np.zeros((4,5))\n",
    "print(a)\n",
    "\n",
    "# Full\n",
    "a = np.full((10), 7)\n",
    "print(a)\n",
    "\n",
    "# Multidimensional Full\n",
    "a = np.full((4,6),8)\n",
    "print(a)\n",
    "\n",
    "# Convert Pyton List into Numy Array\n",
    "li = [1,2,3,4,5]\n",
    "a = np.array(li)\n",
    "print(a)\n"
   ]
  },
  {
   "cell_type": "code",
   "execution_count": null,
   "metadata": {
    "colab": {
     "base_uri": "https://localhost:8080/"
    },
    "id": "C_Ruk2weMw2f",
    "outputId": "427d8a14-3b38-4ad7-9a2f-314b7de63fac"
   },
   "outputs": [
    {
     "data": {
      "text/plain": [
       "array([1, 2, 3, 4])"
      ]
     },
     "execution_count": 1,
     "metadata": {},
     "output_type": "execute_result"
    }
   ],
   "source": [
    "import numpy as np\n",
    "a = np.array([1,2,3,4])\n",
    "a"
   ]
  },
  {
   "cell_type": "code",
   "execution_count": null,
   "metadata": {
    "id": "KiOqTZtSM20A"
   },
   "outputs": [],
   "source": []
  }
 ],
 "metadata": {
  "colab": {
   "provenance": []
  },
  "kernelspec": {
   "display_name": "Python 3",
   "name": "python3"
  },
  "language_info": {
   "name": "python"
  }
 },
 "nbformat": 4,
 "nbformat_minor": 0
}
